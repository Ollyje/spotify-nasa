{
 "cells": [
  {
   "cell_type": "code",
   "execution_count": 1,
   "id": "35125dc1-6ba1-447f-a959-bb5964521fce",
   "metadata": {},
   "outputs": [],
   "source": [
    "# importing the library i need to read the NASA API\n",
    "import requests\n",
    "# importing what i need for spotify\n",
    "import spotipy\n",
    "import json\n",
    "import webbrowser"
   ]
  },
  {
   "cell_type": "code",
   "execution_count": 2,
   "id": "98bfb400-3412-4240-869c-f42e69a6818a",
   "metadata": {},
   "outputs": [],
   "source": [
    "import urllib.request\n",
    "import spotipy.util as util"
   ]
  },
  {
   "cell_type": "code",
   "execution_count": 21,
   "id": "b81fc901-259c-4421-9a6b-f33b1456d993",
   "metadata": {},
   "outputs": [],
   "source": [
    "with open('nasakey.txt', 'r') as nasa_file:\n",
    "    nasa_key = nasa_file.read().strip()"
   ]
  },
  {
   "cell_type": "code",
   "execution_count": 22,
   "id": "6873ab1a-cd7d-42e5-9258-588c2e4103b4",
   "metadata": {},
   "outputs": [],
   "source": [
    "# Define the start and end dates for your CME data range\n",
    "start_date = \"2024-01-01\"\n",
    "end_date = \"2024-01-30\""
   ]
  },
  {
   "cell_type": "code",
   "execution_count": 23,
   "id": "4dc5f02d-fedf-428b-bb03-2c3627a96b8a",
   "metadata": {},
   "outputs": [],
   "source": [
    "# nasa_cme = json.loads(response.read())"
   ]
  },
  {
   "cell_type": "code",
   "execution_count": 24,
   "id": "d204638a-3994-40ea-a7aa-11e2916369a0",
   "metadata": {},
   "outputs": [],
   "source": [
    "# this is giving me a list of all the CME data from my start to end date, as deifned above in the request\n",
    "# i only want the speed\n",
    "# print(nasa_cme)\n",
    "# after this prints, can i list the speed?"
   ]
  },
  {
   "cell_type": "code",
   "execution_count": 25,
   "id": "1d247276-9aef-40f9-b528-2d32d243c50e",
   "metadata": {},
   "outputs": [],
   "source": [
    "# speed = nasa_cme[\"speed\"]"
   ]
  },
  {
   "cell_type": "code",
   "execution_count": 26,
   "id": "bd756e0a-7f24-453c-a4dc-ebc80a1dab7c",
   "metadata": {},
   "outputs": [],
   "source": [
    "# Make a request to the NASA CME API\n",
    "url = \"https://api.nasa.gov/DONKI/CME\"\n",
    "params = {\n",
    "    \"api_key\": nasa_key,\n",
    "    \"startDate\": start_date,\n",
    "    \"endDate\": end_date\n",
    "}\n",
    "response = requests.get(url, params=params)"
   ]
  },
  {
   "cell_type": "code",
   "execution_count": 31,
   "id": "55483224-34d2-4b68-9be7-7dde74421b55",
   "metadata": {
    "scrolled": true
   },
   "outputs": [
    {
     "name": "stdout",
     "output_type": "stream",
     "text": [
      "All CME Speeds: [416.0, 617.0, 462.0, 206.0, 413.0, 383.0, 732.0, 893.0, 783.0, 364.0, 384.0, 552.0, 623.0, 315.0, 399.0, 494.0, 706.0, 545.0, 359.0, 412.0, 729.0, 451.0, 389.0, 571.0, 512.0, 735.0, 287.0, 389.0, 624.0, 580.0, 674.0, 574.0, 332.0, 402.0, 660.0, 434.0, 422.0, 492.0, 981.0, 422.0, 633.0, 462.0, 551.0, 574.0, 460.0, 420.0, 513.0, 227.0, 529.0, 900.0, 895.0, 731.0, 730.0, 280.0, 315.0, 295.0, 948.0, 639.0, 627.0, 503.0, 400.0, 332.0, 471.0, 434.0, 432.0, 772.0, 341.0, 978.0, 1088.0, 584.0, 413.0, 458.0, 1068.0, 1057.0, 1180.0, 280.0, 526.0, 746.0, 360.0, 474.0, 477.0, 654.0, 563.0, 771.0, 1137.0, 613.0, 267.0, 577.0, 696.0, 629.0, 562.0, 615.0, 524.0, 619.0, 428.0, 616.0, 207.0, 370.0, 332.0, 335.0, 292.0, 254.0, 426.0, 534.0, 451.0, 292.0, 300.0, 441.0, 454.0, 321.0, 512.0, 1197.0, 675.0, 365.0, 936.0, 1277.0, 1481.0, 1888.0, 1278.0, 396.0, 657.0, 464.0, 284.0, 826.0, 563.0, 594.0, 209.0, 281.0, 327.0, 1014.0, 1306.0]\n",
      "Highest Speed: 1888.0\n",
      "Lowest Speed: 206.0\n"
     ]
    }
   ],
   "source": [
    "# Check if the request was successful\n",
    "if response.status_code == 200:\n",
    "    # Parse JSON data\n",
    "    nasa_cme = response.json()\n",
    "    \n",
    "    speeds = []\n",
    "    for event in nasa_cme:\n",
    "        cme_analyses = event.get('cmeAnalyses')\n",
    "        if cme_analyses:  # Check if cmeAnalyses is not None or an empty list\n",
    "            for analysis in cme_analyses:\n",
    "                speed = analysis.get('speed')\n",
    "                if speed:\n",
    "                    speeds.append(speed)\n",
    "    \n",
    "   # Print all speeds, highest and lowest\n",
    "    if speeds:\n",
    "        print(\"All CME Speeds:\", speeds)\n",
    "        print(\"Highest Speed:\", max(speeds))\n",
    "        print(\"Lowest Speed:\", min(speeds))\n",
    "    else:\n",
    "        print(\"No speed data available for the specified date range.\")\n",
    "else:\n",
    "    print(f\"Failed to retrieve data: {response.status_code}\")"
   ]
  },
  {
   "cell_type": "code",
   "execution_count": 32,
   "id": "e0e858ca-b3da-4fd5-99b2-cc00002ce0a7",
   "metadata": {},
   "outputs": [],
   "source": [
    "# open file with keys and set the path to your credentials JSON file\n",
    "credentials = \"spotifykeys.json\"\n",
    "with open(credentials, \"r\") as keys:\n",
    "    api_tokens = json.load(keys)"
   ]
  },
  {
   "cell_type": "code",
   "execution_count": 33,
   "id": "97a35419-469e-4eba-b808-82a8384feb69",
   "metadata": {},
   "outputs": [],
   "source": [
    "# read the keys and assign each to a variable\n",
    "# A redirect URI, or reply URL, is the location where the authorization server sends the user once the app has been \n",
    "# successfully authorized and granted an authorization code or access token.\n",
    "client_id = api_tokens[\"client_id\"]\n",
    "client_secret = api_tokens[\"client_secret\"]\n",
    "redirectURI = api_tokens[\"redirect\"]\n",
    "username = api_tokens[\"username\"]"
   ]
  },
  {
   "cell_type": "code",
   "execution_count": 34,
   "id": "73bd71ab-a358-43df-bee9-c66d1b4ffe1a",
   "metadata": {},
   "outputs": [
    {
     "name": "stdin",
     "output_type": "stream",
     "text": [
      "Enter the URL you were redirected to:  https://www.google.co.uk/?code=AQCsrescLu4BxV_BLzg2Oq2rTc0Cr49aImnY2h1_hrVvlFbo0eodudkk6gjYvfF6cAOamVM9f58caEmcH9uP16OqAfMgqSmgA7PFop2q9UKC_x86eHnEdPgF6FMBY99F_ibPnIhSzAk5Tqs0RtuCcpCJ92mN5qkaBTWgRxPIKhX8g3NKlHrAvSu7WqLh4hc8Ve3S6Z8pyIUj5QBjmfEP_LCHICdKD7LbkJbxYuoYW-N7iTGdPvqzpaRYma1wtNS9xwOe0YtEtd5N_KeDsZhVNjSAgWFiEKeVgeaFZi0p\n"
     ]
    }
   ],
   "source": [
    "# for more information on scoping\n",
    "# https://developer.spotify.com/documentation/web-api/concepts/scopes\n",
    "scope = 'user-read-private user-read-playback-state user-modify-playback-state playlist-modify-public'\n",
    "token = util.prompt_for_user_token(username, scope, client_id=client_id,\n",
    "                           client_secret=client_secret,\n",
    "                           redirect_uri=redirectURI)"
   ]
  },
  {
   "cell_type": "code",
   "execution_count": 35,
   "id": "7e7b5e87-5378-497f-9e20-a4007373b742",
   "metadata": {},
   "outputs": [],
   "source": [
    "# Create Spotify Object\n",
    "sp = spotipy.Spotify(auth=token)"
   ]
  },
  {
   "cell_type": "code",
   "execution_count": 36,
   "id": "a403740a-5bfd-496f-8425-c20ddc4d6707",
   "metadata": {},
   "outputs": [
    {
     "name": "stdout",
     "output_type": "stream",
     "text": [
      "{'devices': [{'id': '5922486d0dc1e10064809244c250bbce9b43d6e9', 'is_active': False, 'is_private_session': False, 'is_restricted': False, 'name': 'Web Player (Chrome)', 'supports_volume': True, 'type': 'Computer', 'volume_percent': 100}, {'id': '4fd4f1bac90c68fbc7ab76340b9982ec85f41e17', 'is_active': False, 'is_private_session': False, 'is_restricted': False, 'name': 'Oliver’s iMac', 'supports_volume': True, 'type': 'Computer', 'volume_percent': 100}]}\n"
     ]
    }
   ],
   "source": [
    "# if you have the Spotify app - open it!\n",
    "devices = sp.devices()\n",
    "print(devices)\n",
    "deviceID = devices['devices'][0]['id']"
   ]
  },
  {
   "cell_type": "code",
   "execution_count": 44,
   "id": "d8491132-1e8d-42a1-a0f4-363f3a320bdf",
   "metadata": {},
   "outputs": [
    {
     "name": "stdout",
     "output_type": "stream",
     "text": [
      "Track: Slow It Down, Artist: Benson Boone, Tempo: 181.49 BPM\n",
      "Track: Yellow, Artist: Coldplay, Tempo: 173.37 BPM\n",
      "Track: Cruel Summer, Artist: Taylor Swift, Tempo: 169.99 BPM\n",
      "Track: End of Beginning, Artist: Djo, Tempo: 159.98 BPM\n",
      "Track: Die With A Smile, Artist: Lady Gaga, Tempo: 157.97 BPM\n",
      "Track: Iris, Artist: The Goo Goo Dolls, Tempo: 155.93 BPM\n",
      "Track: Diet Pepsi, Artist: Addison Rae, Tempo: 150.07 BPM\n",
      "Track: WILDFLOWER, Artist: Billie Eilish, Tempo: 148.10 BPM\n",
      "Track: Thick Of It (feat. Trippie Redd), Artist: KSI, Tempo: 145.82 BPM\n",
      "Track: Prada, Artist: cassö, Tempo: 141.90 BPM\n",
      "Track: HOT TO GO!, Artist: Chappell Roan, Tempo: 139.98 BPM\n",
      "Track: Viva La Vida, Artist: Coldplay, Tempo: 138.01 BPM\n",
      "Track: Casual, Artist: Chappell Roan, Tempo: 131.01 BPM\n",
      "Track: Juno, Artist: Sabrina Carpenter, Tempo: 130.50 BPM\n",
      "Track: Guess featuring billie eilish, Artist: Charli xcx, Tempo: 130.02 BPM\n",
      "Track: I Don't Wanna Wait, Artist: David Guetta, Tempo: 129.98 BPM\n",
      "Track: Take Me To Church, Artist: Hozier, Tempo: 129.07 BPM\n",
      "Track: I Had Some Help (Feat. Morgan Wallen), Artist: Post Malone, Tempo: 127.99 BPM\n",
      "Track: Somedays, Artist: Sonny Fodera, Tempo: 127.93 BPM\n",
      "Track: Apple, Artist: Charli xcx, Tempo: 126.03 BPM\n",
      "Track: Good Graces, Artist: Sabrina Carpenter, Tempo: 126.01 BPM\n",
      "Track: LUNCH, Artist: Billie Eilish, Tempo: 124.99 BPM\n",
      "Track: Red Wine Supernova, Artist: Chappell Roan, Tempo: 124.04 BPM\n",
      "Track: Sweater Weather, Artist: The Neighbourhood, Tempo: 124.04 BPM\n",
      "Track: Stargazing, Artist: Myles Smith, Tempo: 123.99 BPM\n",
      "Track: Another Love, Artist: Tom Odell, Tempo: 122.77 BPM\n",
      "Track: Story of My Life, Artist: One Direction, Tempo: 121.07 BPM\n",
      "Track: Night Changes, Artist: One Direction, Tempo: 120.00 BPM\n",
      "Track: Timeless (with Playboi Carti), Artist: The Weeknd, Tempo: 119.97 BPM\n",
      "Track: Stick Season, Artist: Noah Kahan, Tempo: 117.90 BPM\n",
      "Track: Too Sweet, Artist: Hozier, Tempo: 117.03 BPM\n",
      "Track: Good Luck, Babe!, Artist: Chappell Roan, Tempo: 116.71 BPM\n",
      "Track: It's ok I'm ok, Artist: Tate McRae, Tempo: 115.00 BPM\n",
      "Track: Taste, Artist: Sabrina Carpenter, Tempo: 112.96 BPM\n",
      "Track: Please Please Please, Artist: Sabrina Carpenter, Tempo: 107.07 BPM\n",
      "Track: Please Please Please, Artist: Sabrina Carpenter, Tempo: 107.02 BPM\n",
      "Track: Pink Pony Club, Artist: Chappell Roan, Tempo: 106.72 BPM\n",
      "Track: Valerie (feat. Amy Winehouse) - Version Revisited, Artist: Mark Ronson, Tempo: 105.81 BPM\n",
      "Track: Beautiful Things, Artist: Benson Boone, Tempo: 105.03 BPM\n",
      "Track: Beautiful Things, Artist: Benson Boone, Tempo: 105.03 BPM\n",
      "Track: BIRDS OF A FEATHER, Artist: Billie Eilish, Tempo: 104.98 BPM\n",
      "Track: Espresso, Artist: Sabrina Carpenter, Tempo: 103.97 BPM\n",
      "Track: Espresso, Artist: Sabrina Carpenter, Tempo: 103.96 BPM\n",
      "Track: Riptide, Artist: Vance Joy, Tempo: 101.65 BPM\n",
      "Track: Unwritten, Artist: Natasha Bedingfield, Tempo: 100.01 BPM\n",
      "Track: Bed Chem, Artist: Sabrina Carpenter, Tempo: 94.99 BPM\n",
      "Track: Sailor Song, Artist: Gigi Perez, Tempo: 94.94 BPM\n",
      "Track: Linger, Artist: The Cranberries, Tempo: 94.84 BPM\n",
      "Track: A Bar Song (Tipsy), Artist: Shaboozey, Tempo: 81.01 BPM\n",
      "Track: A Bar Song (Tipsy), Artist: Shaboozey, Tempo: 80.97 BPM\n"
     ]
    }
   ],
   "source": [
    "# Search for tracks (you can use a genre or general keyword here)\n",
    "track_results = sp.search(q=\"genre:pop\", type='track', limit=50)  # Adjust genre as desired\n",
    "\n",
    "# Collect track IDs\n",
    "track_ids = [track['id'] for track in track_results['tracks']['items']]\n",
    "\n",
    "# Retrieve audio features for all tracks\n",
    "audio_features = sp.audio_features(track_ids)\n",
    "\n",
    "# Pair each track with its tempo and sort by tempo\n",
    "tracks_with_tempo = [(track['name'], track['artists'][0]['name'], features['tempo'])\n",
    "                     for track, features in zip(track_results['tracks']['items'], audio_features)\n",
    "                     if features]  # Filter out any tracks with missing audio features\n",
    "\n",
    "# Sort by tempo in descending order\n",
    "tracks_with_tempo.sort(key=lambda x: x[2], reverse=True)\n",
    "\n",
    "# Print out the top 50 tracks with their tempos\n",
    "for track_name, artist_name, tempo in tracks_with_tempo:\n",
    "    print(f\"Track: {track_name}, Artist: {artist_name}, Tempo: {tempo:.2f} BPM\")"
   ]
  },
  {
   "cell_type": "code",
   "execution_count": null,
   "id": "19472cbc-22c8-4b6c-a209-afc7cd2b3762",
   "metadata": {},
   "outputs": [],
   "source": []
  }
 ],
 "metadata": {
  "kernelspec": {
   "display_name": "Python 3 (ipykernel)",
   "language": "python",
   "name": "python3"
  },
  "language_info": {
   "codemirror_mode": {
    "name": "ipython",
    "version": 3
   },
   "file_extension": ".py",
   "mimetype": "text/x-python",
   "name": "python",
   "nbconvert_exporter": "python",
   "pygments_lexer": "ipython3",
   "version": "3.12.7"
  }
 },
 "nbformat": 4,
 "nbformat_minor": 5
}
