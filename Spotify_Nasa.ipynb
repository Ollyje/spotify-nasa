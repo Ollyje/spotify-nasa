{
 "cells": [
  {
   "cell_type": "code",
   "execution_count": 1,
   "id": "35125dc1-6ba1-447f-a959-bb5964521fce",
   "metadata": {},
   "outputs": [],
   "source": [
    "# importing the library i need to read the NASA API\n",
    "import requests\n",
    "# importing what i need for spotify\n",
    "import spotipy\n",
    "import json\n",
    "import webbrowser"
   ]
  },
  {
   "cell_type": "code",
   "execution_count": 2,
   "id": "98bfb400-3412-4240-869c-f42e69a6818a",
   "metadata": {},
   "outputs": [],
   "source": [
    "import urllib.request\n",
    "import spotipy.util as util"
   ]
  },
  {
   "cell_type": "code",
   "execution_count": 3,
   "id": "b81fc901-259c-4421-9a6b-f33b1456d993",
   "metadata": {},
   "outputs": [],
   "source": [
    "with open('nasakey.txt', 'r') as nasa_file:\n",
    "    nasa_key = nasa_file.read().strip()"
   ]
  },
  {
   "cell_type": "code",
   "execution_count": 4,
   "id": "6873ab1a-cd7d-42e5-9258-588c2e4103b4",
   "metadata": {},
   "outputs": [],
   "source": [
    "# Define the start and end dates for your CME data range\n",
    "start_date = \"2024-01-01\"\n",
    "end_date = \"2024-01-30\""
   ]
  },
  {
   "cell_type": "code",
   "execution_count": 5,
   "id": "4dc5f02d-fedf-428b-bb03-2c3627a96b8a",
   "metadata": {},
   "outputs": [],
   "source": [
    "# nasa_cme = json.loads(response.read())"
   ]
  },
  {
   "cell_type": "code",
   "execution_count": 6,
   "id": "d204638a-3994-40ea-a7aa-11e2916369a0",
   "metadata": {},
   "outputs": [],
   "source": [
    "# this is giving me a list of all the CME data from my start to end date, as deifned above in the request\n",
    "# i only want the speed\n",
    "# print(nasa_cme)\n",
    "# after this prints, can i list the speed?"
   ]
  },
  {
   "cell_type": "code",
   "execution_count": 7,
   "id": "1d247276-9aef-40f9-b528-2d32d243c50e",
   "metadata": {},
   "outputs": [],
   "source": [
    "# speed = nasa_cme[\"speed\"]"
   ]
  },
  {
   "cell_type": "code",
   "execution_count": 8,
   "id": "bd756e0a-7f24-453c-a4dc-ebc80a1dab7c",
   "metadata": {},
   "outputs": [],
   "source": [
    "# Make a request to the NASA CME API\n",
    "url = \"https://api.nasa.gov/DONKI/CME\"\n",
    "params = {\n",
    "    \"api_key\": nasa_key,\n",
    "    \"startDate\": start_date,\n",
    "    \"endDate\": end_date\n",
    "}\n",
    "response = requests.get(url, params=params)"
   ]
  },
  {
   "cell_type": "code",
   "execution_count": 9,
   "id": "55483224-34d2-4b68-9be7-7dde74421b55",
   "metadata": {
    "scrolled": true
   },
   "outputs": [
    {
     "name": "stdout",
     "output_type": "stream",
     "text": [
      "All CME Speeds: [416.0, 617.0, 462.0, 206.0, 413.0, 383.0, 732.0, 893.0, 783.0, 364.0, 384.0, 552.0, 623.0, 315.0, 399.0, 494.0, 706.0, 545.0, 359.0, 412.0, 729.0, 451.0, 389.0, 571.0, 512.0, 735.0, 287.0, 389.0, 624.0, 580.0, 674.0, 574.0, 332.0, 402.0, 660.0, 434.0, 422.0, 492.0, 981.0, 422.0, 633.0, 462.0, 551.0, 574.0, 460.0, 420.0, 513.0, 227.0, 529.0, 900.0, 895.0, 731.0, 730.0, 280.0, 315.0, 295.0, 948.0, 639.0, 627.0, 503.0, 400.0, 332.0, 471.0, 434.0, 432.0, 772.0, 341.0, 978.0, 1088.0, 584.0, 413.0, 458.0, 1068.0, 1057.0, 1180.0, 280.0, 526.0, 746.0, 360.0, 474.0, 477.0, 654.0, 563.0, 771.0, 1137.0, 613.0, 267.0, 577.0, 696.0, 629.0, 562.0, 615.0, 524.0, 619.0, 428.0, 616.0, 207.0, 370.0, 332.0, 335.0, 292.0, 254.0, 426.0, 534.0, 451.0, 292.0, 300.0, 441.0, 454.0, 321.0, 512.0, 1197.0, 675.0, 365.0, 936.0, 1277.0, 1481.0, 1888.0, 1278.0, 396.0, 657.0, 464.0, 284.0, 826.0, 563.0, 594.0, 209.0, 281.0, 327.0, 1014.0, 1306.0]\n",
      "Highest Speed: 1888.0\n",
      "Lowest Speed: 206.0\n"
     ]
    }
   ],
   "source": [
    "# Check if the request was successful\n",
    "if response.status_code == 200:\n",
    "    # Parse JSON data\n",
    "    nasa_cme = response.json()\n",
    "    \n",
    "    speeds = []\n",
    "    for event in nasa_cme:\n",
    "        cme_analyses = event.get('cmeAnalyses')\n",
    "        if cme_analyses:  # Check if cmeAnalyses is not None or an empty list\n",
    "            for analysis in cme_analyses:\n",
    "                speed = analysis.get('speed')\n",
    "                if speed:\n",
    "                    speeds.append(speed)\n",
    "    \n",
    "   # Print all speeds, highest and lowest\n",
    "    if speeds:\n",
    "        print(\"All CME Speeds:\", speeds)\n",
    "        print(\"Highest Speed:\", max(speeds))\n",
    "        print(\"Lowest Speed:\", min(speeds))\n",
    "    else:\n",
    "        print(\"No speed data available for the specified date range.\")\n",
    "else:\n",
    "    print(f\"Failed to retrieve data: {response.status_code}\")"
   ]
  },
  {
   "cell_type": "code",
   "execution_count": 10,
   "id": "e0e858ca-b3da-4fd5-99b2-cc00002ce0a7",
   "metadata": {},
   "outputs": [],
   "source": [
    "# open file with keys and set the path to your credentials JSON file\n",
    "credentials = \"spotifykeys.json\"\n",
    "with open(credentials, \"r\") as keys:\n",
    "    api_tokens = json.load(keys)"
   ]
  },
  {
   "cell_type": "code",
   "execution_count": 11,
   "id": "97a35419-469e-4eba-b808-82a8384feb69",
   "metadata": {},
   "outputs": [],
   "source": [
    "# read the keys and assign each to a variable\n",
    "# A redirect URI, or reply URL, is the location where the authorization server sends the user once the app has been \n",
    "# successfully authorized and granted an authorization code or access token.\n",
    "client_id = api_tokens[\"client_id\"]\n",
    "client_secret = api_tokens[\"client_secret\"]\n",
    "redirectURI = api_tokens[\"redirect\"]\n",
    "username = api_tokens[\"username\"]"
   ]
  },
  {
   "cell_type": "code",
   "execution_count": 12,
   "id": "73bd71ab-a358-43df-bee9-c66d1b4ffe1a",
   "metadata": {},
   "outputs": [
    {
     "name": "stdin",
     "output_type": "stream",
     "text": [
      "Enter the URL you were redirected to:  https://www.google.co.uk/?code=AQDBVxthJWtHuVzJIzA5ER8T0tS5xYw2XDk58MVSsYwpv9evFoUB87OD3irxSy5COQoeG4-S5H8YdtSyzuda_8vgfxmJp1xB_3bsqDhXjUsEUNg917SLehpSAmIE21iRFBrO74bMBOVwAbi3m0sCxHVE4NvmqEtMao8bxL4SLhLh6yRx7DTqC3m-3FuwxrDqyO9psU_vmJ77zl3R0KtI_FMxA8QaaW7qp0hMEbiccITSb-YGcFBdWMKzZsRlwcmRqLhGrxMNLnX_98U2KdUtDDDVsqauEXuurw1qpk9z\n"
     ]
    }
   ],
   "source": [
    "# for more information on scoping\n",
    "# https://developer.spotify.com/documentation/web-api/concepts/scopes\n",
    "scope = 'user-read-private user-read-playback-state user-modify-playback-state playlist-modify-public'\n",
    "token = util.prompt_for_user_token(username, scope, client_id=client_id,\n",
    "                           client_secret=client_secret,\n",
    "                           redirect_uri=redirectURI)"
   ]
  },
  {
   "cell_type": "code",
   "execution_count": 13,
   "id": "7e7b5e87-5378-497f-9e20-a4007373b742",
   "metadata": {},
   "outputs": [],
   "source": [
    "# Create Spotify Object\n",
    "sp = spotipy.Spotify(auth=token)"
   ]
  },
  {
   "cell_type": "code",
   "execution_count": 14,
   "id": "a403740a-5bfd-496f-8425-c20ddc4d6707",
   "metadata": {},
   "outputs": [
    {
     "name": "stdout",
     "output_type": "stream",
     "text": [
      "{'devices': []}\n"
     ]
    },
    {
     "ename": "IndexError",
     "evalue": "list index out of range",
     "output_type": "error",
     "traceback": [
      "\u001b[1;31m---------------------------------------------------------------------------\u001b[0m",
      "\u001b[1;31mIndexError\u001b[0m                                Traceback (most recent call last)",
      "Cell \u001b[1;32mIn[14], line 4\u001b[0m\n\u001b[0;32m      2\u001b[0m devices \u001b[38;5;241m=\u001b[39m sp\u001b[38;5;241m.\u001b[39mdevices()\n\u001b[0;32m      3\u001b[0m \u001b[38;5;28mprint\u001b[39m(devices)\n\u001b[1;32m----> 4\u001b[0m deviceID \u001b[38;5;241m=\u001b[39m \u001b[43mdevices\u001b[49m\u001b[43m[\u001b[49m\u001b[38;5;124;43m'\u001b[39;49m\u001b[38;5;124;43mdevices\u001b[39;49m\u001b[38;5;124;43m'\u001b[39;49m\u001b[43m]\u001b[49m\u001b[43m[\u001b[49m\u001b[38;5;241;43m0\u001b[39;49m\u001b[43m]\u001b[49m[\u001b[38;5;124m'\u001b[39m\u001b[38;5;124mid\u001b[39m\u001b[38;5;124m'\u001b[39m]\n",
      "\u001b[1;31mIndexError\u001b[0m: list index out of range"
     ]
    }
   ],
   "source": [
    "# if you have the Spotify app - open it!\n",
    "devices = sp.devices()\n",
    "print(devices)\n",
    "deviceID = devices['devices'][0]['id']"
   ]
  },
  {
   "cell_type": "code",
   "execution_count": null,
   "id": "d8491132-1e8d-42a1-a0f4-363f3a320bdf",
   "metadata": {},
   "outputs": [],
   "source": [
    "# Search for tracks (you can use a genre or general keyword here)\n",
    "track_results = sp.search(q=\"genre:pop\", type='track', limit=50)  # Adjust genre as desired\n",
    "\n",
    "# Collect track IDs\n",
    "track_ids = [track['id'] for track in track_results['tracks']['items']]\n",
    "\n",
    "# Retrieve audio features for all tracks\n",
    "audio_features = sp.audio_features(track_ids)\n",
    "\n",
    "# Pair each track with its tempo and sort by tempo\n",
    "tracks_with_tempo = [(track['name'], track['artists'][0]['name'], features['tempo'])\n",
    "                     for track, features in zip(track_results['tracks']['items'], audio_features)\n",
    "                     if features]  # Filter out any tracks with missing audio features\n",
    "\n",
    "# Sort by tempo in descending order\n",
    "tracks_with_tempo.sort(key=lambda x: x[2], reverse=True)\n",
    "\n",
    "# Print out the top 50 tracks with their tempos\n",
    "for track_name, artist_name, tempo in tracks_with_tempo:\n",
    "    print(f\"Track: {track_name}, Artist: {artist_name}, Tempo: {tempo:.2f} BPM\")"
   ]
  },
  {
   "cell_type": "code",
   "execution_count": null,
   "id": "19472cbc-22c8-4b6c-a209-afc7cd2b3762",
   "metadata": {},
   "outputs": [],
   "source": []
  },
  {
   "cell_type": "code",
   "execution_count": null,
   "id": "413d928d-7a4e-4674-860b-253e494c9cfd",
   "metadata": {},
   "outputs": [],
   "source": []
  },
  {
   "cell_type": "code",
   "execution_count": null,
   "id": "6b132ff4-8373-4b53-9ecb-a517691d3954",
   "metadata": {},
   "outputs": [],
   "source": []
  }
 ],
 "metadata": {
  "kernelspec": {
   "display_name": "Python 3 (ipykernel)",
   "language": "python",
   "name": "python3"
  },
  "language_info": {
   "codemirror_mode": {
    "name": "ipython",
    "version": 3
   },
   "file_extension": ".py",
   "mimetype": "text/x-python",
   "name": "python",
   "nbconvert_exporter": "python",
   "pygments_lexer": "ipython3",
   "version": "3.12.7"
  }
 },
 "nbformat": 4,
 "nbformat_minor": 5
}
